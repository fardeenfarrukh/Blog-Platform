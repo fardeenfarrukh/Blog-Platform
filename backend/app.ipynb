{
 "cells": [
  {
   "cell_type": "code",
   "execution_count": 35,
   "id": "5f35bfea-e606-4fe7-b637-c6608fc9cf94",
   "metadata": {},
   "outputs": [],
   "source": [
    "from flask import Flask, render_template, request, redirect, url_for, flash, session\n",
    "from flask_sqlalchemy import SQLAlchemy\n",
    "from werkzeug.security import generate_password_hash, check_password_hash\n"
   ]
  },
  {
   "cell_type": "code",
   "execution_count": null,
   "id": "d46e0bf3-97a2-4b9c-a540-3145746ec0c6",
   "metadata": {},
   "outputs": [],
   "source": [
    "app = Flask(__name__)\n",
    "app.config['SECRET_KEY'] = \"JPMorgan123!\"\n",
    "app.config['SQLALCHEMY_DATABASE_URI'] = r'sqlite:///C:\\Users\\yaguc\\Downloads\\JP Morgan Documents\\Week 3\\Day 5\\Blog Platform Project\\database\\Blog_Platform_Database.db'\n",
    "app.config['SQLALCHEMY_TRACK_MODIFICATIONS'] = False\n",
    "db = SQLAlchemy(app)"
   ]
  },
  {
   "cell_type": "code",
   "execution_count": 41,
   "id": "9a6dbf7a-76d3-4780-8996-07e862ae1c67",
   "metadata": {},
   "outputs": [],
   "source": [
    "class User(db.Model):\n",
    "    user_id = db.Column(db.Integer, primary_key=True)\n",
    "    username = db.Column(db.String(50), unique=True, nullable=False)\n",
    "    password_hash = db.Column(db.String(255), nullable=False)\n",
    "    email = db.Column(db.String(100), unique=True, nullable=False)\n",
    "    role = db.Column(db.Enum('Admin', 'Author', 'Reader'), default='Reader')\n",
    "    created_at = db.Column(db.DateTime, default=db.func.current_timestamp())"
   ]
  },
  {
   "cell_type": "code",
   "execution_count": 43,
   "id": "32d4fba1-c413-4d1d-9a18-a40b40a25890",
   "metadata": {},
   "outputs": [],
   "source": [
    "class Post(db.Model):\n",
    "    post_id = db.Column(db.Integer, primary_key=True)\n",
    "    title = db.Column(db.String(255), nullable=False)\n",
    "    content = db.Column(db.Text, nullable=False)\n",
    "    author_id = db.Column(db.Integer, db.ForeignKey('user.user_id'))\n",
    "    created_at = db.Column(db.DateTime, default=db.func.current_timestamp())\n",
    "    updated_at = db.Column(db.DateTime, default=db.func.current_timestamp(), onupdate=db.func.current_timestamp())\n",
    "    category = db.Column(db.String(100))\n",
    "    tags = db.Column(db.Text)"
   ]
  },
  {
   "cell_type": "code",
   "execution_count": 45,
   "id": "2bd86f21-911f-4c3d-97be-284e1f08b864",
   "metadata": {},
   "outputs": [],
   "source": [
    "class Comment(db.Model):\n",
    "    comment_id = db.Column(db.Integer, primary_key=True)\n",
    "    post_id = db.Column(db.Integer, db.ForeignKey('post.post_id'))\n",
    "    user_id = db.Column(db.Integer, db.ForeignKey('user.user_id'))\n",
    "    comment = db.Column(db.Text, nullable=False)\n",
    "    created_at = db.Column(db.DateTime, default=db.func.current_timestamp())"
   ]
  },
  {
   "cell_type": "code",
   "execution_count": 47,
   "id": "e861feaa-1581-4e78-b079-2229c6dd216d",
   "metadata": {},
   "outputs": [],
   "source": [
    "class Tag(db.Model):\n",
    "    tag_id = db.Column(db.Integer, primary_key=True)\n",
    "    tag_name = db.Column(db.String(100), unique=True, nullable=False)"
   ]
  },
  {
   "cell_type": "code",
   "execution_count": 49,
   "id": "c21cac64-375a-4b50-ad50-3e60929f84c4",
   "metadata": {},
   "outputs": [],
   "source": [
    "class PostTag(db.Model):\n",
    "    post_tag_id = db.Column(db.Integer, primary_key=True)\n",
    "    post_id = db.Column(db.Integer, db.ForeignKey('post.post_id'))\n",
    "    tag_id = db.Column(db.Integer, db.ForeignKey('tag.tag_id'))"
   ]
  },
  {
   "cell_type": "code",
   "execution_count": 51,
   "id": "21a7c3e0-bdf0-4612-b19f-ae98f43cba67",
   "metadata": {},
   "outputs": [],
   "source": [
    "with app.app_context():\n",
    "    db.create_all()"
   ]
  },
  {
   "cell_type": "code",
   "execution_count": 53,
   "id": "09c0e3f2-0f20-4ab7-b94a-0c42b24eabca",
   "metadata": {},
   "outputs": [],
   "source": [
    "@app.route('/')\n",
    "def index():\n",
    "    posts = Post.query.all()\n",
    "    return render_template('frontend/index.html', posts=posts)"
   ]
  },
  {
   "cell_type": "code",
   "execution_count": 55,
   "id": "34d80197-dee8-44e9-af00-9408967be99f",
   "metadata": {},
   "outputs": [],
   "source": [
    "@app.route('/post/<int:post_id>')\n",
    "def post_detail(post_id):\n",
    "    post = Post.query.get_or_404(post_id)\n",
    "    comments = Comment.query.filter_by(post_id=post_id).all()\n",
    "    return render_template('frontend/post_detail.html', post=post, comments=comments)"
   ]
  },
  {
   "cell_type": "code",
   "execution_count": 57,
   "id": "69b1305d-49db-497a-93a0-4efb4533c681",
   "metadata": {},
   "outputs": [],
   "source": [
    "@app.route('/login', methods=['GET', 'POST'])\n",
    "def login():\n",
    "    if request.method == 'POST':\n",
    "        username = request.form['username']\n",
    "        password = request.form['password']\n",
    "        user = User.query.filter_by(username=username).first()\n",
    "        if user and check_password_hash(user.password_hash, password):\n",
    "            session['user_id'] = user.user_id\n",
    "            flash('Login successful!', 'success')\n",
    "            return redirect('/')\n",
    "        else:\n",
    "            flash('Login failed! Check your credentials', 'danger')\n",
    "    return render_template('frontend/login.html')"
   ]
  },
  {
   "cell_type": "code",
   "execution_count": 59,
   "id": "2d013c26-edfb-4788-b8e4-013c52286b2d",
   "metadata": {},
   "outputs": [],
   "source": [
    "@app.route('/register', methods=['GET', 'POST'])\n",
    "def register():\n",
    "    if request.method == 'POST':\n",
    "        username = request.form['username']\n",
    "        email = request.form['email']\n",
    "        password = request.form['password']\n",
    "        hashed_password = generate_password_hash(password, method='sha256')\n",
    "        new_user = User(username=username, password_hash=hashed_password, email=email)\n",
    "        db.session.add(new_user)\n",
    "        db.session.commit()\n",
    "        flash('Registration successful! You can now log in.', 'success')\n",
    "        return redirect(url_for('index'))\n",
    "    return render_template('frontend/register.html')"
   ]
  },
  {
   "cell_type": "code",
   "execution_count": 61,
   "id": "a1321983-ee6f-47a3-8eb6-4a698039039b",
   "metadata": {},
   "outputs": [],
   "source": [
    "def add_comment(post_id):\n",
    "    if 'user_id' in session:\n",
    "        comment_text = request.form['comment']\n",
    "        new_comment = Comment(post_id=post_id, user_id=session['user_id'], comment=comment_text)\n",
    "        db.session.add(new_comment)\n",
    "        db.session.commit()\n",
    "        flash('Comment added successfully!', 'success')\n",
    "    else:\n",
    "        flash('You need to be logged in to comment', 'danger')\n",
    "    return redirect(url_for('post_detail', post_id=post_id))"
   ]
  },
  {
   "cell_type": "code",
   "execution_count": 69,
   "id": "7a11f31a-7d1c-46bc-9ed9-968353ac4c81",
   "metadata": {},
   "outputs": [
    {
     "name": "stdout",
     "output_type": "stream",
     "text": [
      " * Serving Flask app '__main__'\n",
      " * Debug mode: on\n"
     ]
    },
    {
     "name": "stderr",
     "output_type": "stream",
     "text": [
      "WARNING: This is a development server. Do not use it in a production deployment. Use a production WSGI server instead.\n",
      " * Running on http://127.0.0.1:5000\n",
      "Press CTRL+C to quit\n",
      " * Restarting with watchdog (windowsapi)\n"
     ]
    },
    {
     "ename": "SystemExit",
     "evalue": "1",
     "output_type": "error",
     "traceback": [
      "An exception has occurred, use %tb to see the full traceback.\n",
      "\u001b[1;31mSystemExit\u001b[0m\u001b[1;31m:\u001b[0m 1\n"
     ]
    }
   ],
   "source": [
    "if __name__ == '__main__':\n",
    "    app.run(host='127.0.0.1', port=5000, debug=True)"
   ]
  },
  {
   "cell_type": "code",
   "execution_count": null,
   "id": "5c18459c-5c8f-4ee9-8f0d-33b7840d6e7f",
   "metadata": {},
   "outputs": [],
   "source": []
  },
  {
   "cell_type": "code",
   "execution_count": null,
   "id": "bf4e4164-9b1a-4a9c-a031-bd0380bfc002",
   "metadata": {},
   "outputs": [],
   "source": []
  }
 ],
 "metadata": {
  "kernelspec": {
   "display_name": "Python 3 (ipykernel)",
   "language": "python",
   "name": "python3"
  },
  "language_info": {
   "codemirror_mode": {
    "name": "ipython",
    "version": 3
   },
   "file_extension": ".py",
   "mimetype": "text/x-python",
   "name": "python",
   "nbconvert_exporter": "python",
   "pygments_lexer": "ipython3",
   "version": "3.12.4"
  }
 },
 "nbformat": 4,
 "nbformat_minor": 5
}
