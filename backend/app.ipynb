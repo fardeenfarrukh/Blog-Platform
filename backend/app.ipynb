{
 "cells": [
  {
   "cell_type": "code",
   "execution_count": 1,
   "id": "5f35bfea-e606-4fe7-b637-c6608fc9cf94",
   "metadata": {},
   "outputs": [],
   "source": [
    "from flask import Flask, render_template, request, redirect, url_for, flash, session\n",
    "from flask_sqlalchemy import SQLAlchemy\n",
    "from werkzeug.security import generate_password_hash, check_password_hash"
   ]
  },
  {
   "cell_type": "code",
   "execution_count": 3,
   "id": "a081cc4a-d2d7-4e1f-9f5c-2991fe76e919",
   "metadata": {},
   "outputs": [],
   "source": [
    "app = Flask(__name__)\n",
    "app.config['SECRET_KEY'] = \"JPMorgan123!\"\n",
    "app.config['SQLALCHEMY_DATABASE_URI'] = 'sqlite:///blog_platform.db'\n",
    "app.config['SQLALCHEMY_TRACK_MODIFICATIONS'] = False"
   ]
  },
  {
   "cell_type": "code",
   "execution_count": 5,
   "id": "9810bb33-6861-422e-9562-e8326e0ae057",
   "metadata": {},
   "outputs": [],
   "source": [
    "db = SQLAlchemy(app)"
   ]
  },
  {
   "cell_type": "code",
   "execution_count": 7,
   "id": "9a6dbf7a-76d3-4780-8996-07e862ae1c67",
   "metadata": {},
   "outputs": [],
   "source": [
    "class User(db.Model):\n",
    "    user_id = db.Column(db.Integer, primary_key=True)\n",
    "    username = db.Column(db.String(50), unique=True, nullable=False)\n",
    "    password_hash = db.Column(db.String(255), nullable=False)\n",
    "    email = db.Column(db.String(100), unique=True, nullable=False)\n",
    "    role = db.Column(db.Enum('Admin', 'Author', 'Reader'), default='Reader')\n",
    "    created_at = db.Column(db.DateTime, default=db.func.current_timestamp())"
   ]
  },
  {
   "cell_type": "code",
   "execution_count": 9,
   "id": "32d4fba1-c413-4d1d-9a18-a40b40a25890",
   "metadata": {},
   "outputs": [],
   "source": [
    "class Post(db.Model):\n",
    "    post_id = db.Column(db.Integer, primary_key=True)\n",
    "    title = db.Column(db.String(255), nullable=False)\n",
    "    content = db.Column(db.Text, nullable=False)\n",
    "    author_id = db.Column(db.Integer, db.ForeignKey('user.user_id'))\n",
    "    created_at = db.Column(db.DateTime, default=db.func.current_timestamp())\n",
    "    updated_at = db.Column(db.DateTime, default=db.func.current_timestamp(), onupdate=db.func.current_timestamp())\n",
    "    category = db.Column(db.String(100))\n",
    "    tags = db.Column(db.Text)"
   ]
  },
  {
   "cell_type": "code",
   "execution_count": 11,
   "id": "2bd86f21-911f-4c3d-97be-284e1f08b864",
   "metadata": {},
   "outputs": [],
   "source": [
    "class Comment(db.Model):\n",
    "    comment_id = db.Column(db.Integer, primary_key=True)\n",
    "    post_id = db.Column(db.Integer, db.ForeignKey('post.post_id'))\n",
    "    user_id = db.Column(db.Integer, db.ForeignKey('user.user_id'))\n",
    "    comment = db.Column(db.Text, nullable=False)\n",
    "    created_at = db.Column(db.DateTime, default=db.func.current_stamp())"
   ]
  },
  {
   "cell_type": "code",
   "execution_count": 13,
   "id": "e861feaa-1581-4e78-b079-2229c6dd216d",
   "metadata": {},
   "outputs": [],
   "source": [
    "class Tag(db.Model):\n",
    "    tag_id = db.Column(db.Integer, primary_key=True)\n",
    "    tag_name = db.Column(db.String(100), unique=True, nullable=False)"
   ]
  },
  {
   "cell_type": "code",
   "execution_count": 15,
   "id": "c21cac64-375a-4b50-ad50-3e60929f84c4",
   "metadata": {},
   "outputs": [],
   "source": [
    "class PostTag(db.Model):\n",
    "    post_tag_id = db.Column(db.Integer, primary_key=True)\n",
    "    post_id = db.Column(db.Integer, db.ForeignKey('post.post_id'))\n",
    "    tag_id = db.Column(db.Integer, db.ForeignKey('tag.tag_id'))"
   ]
  },
  {
   "cell_type": "code",
   "execution_count": 17,
   "id": "21a7c3e0-bdf0-4612-b19f-ae98f43cba67",
   "metadata": {},
   "outputs": [],
   "source": [
    "with app.app_context():\n",
    "    db.create_all()"
   ]
  },
  {
   "cell_type": "code",
   "execution_count": 19,
   "id": "09c0e3f2-0f20-4ab7-b94a-0c42b24eabca",
   "metadata": {},
   "outputs": [],
   "source": [
    "@app.route('/')\n",
    "def index():\n",
    "    posts = Post.query.all()\n",
    "    return render_template('index.html', posts=posts)"
   ]
  },
  {
   "cell_type": "code",
   "execution_count": 21,
   "id": "34d80197-dee8-44e9-af00-9408967be99f",
   "metadata": {},
   "outputs": [],
   "source": [
    "@app.route('/post/<int:post_id>')\n",
    "def post_detail(post_id):\n",
    "    post = Post.query.get_or_404(post_id)\n",
    "    comments = Comment.query.filter_by(post_id=post_id).all()\n",
    "    return render_template('post_detail.html', post=post, comments=comments)"
   ]
  },
  {
   "cell_type": "code",
   "execution_count": 23,
   "id": "69b1305d-49db-497a-93a0-4efb4533c681",
   "metadata": {},
   "outputs": [],
   "source": [
    "@app.route('/login', methods=['GET', 'POST'])\n",
    "def login():\n",
    "    if request.method == 'POST':\n",
    "        username = request.form['username']\n",
    "        password = request.form['password']\n",
    "        user = User.query.filter_by(username=username).first()\n",
    "        if user and check_password_hash(user.password_hash, password):\n",
    "            session['user_id'] = user.user_id\n",
    "            flash('Login successful!', 'success')\n",
    "            return redirect(url_for('index'))\n",
    "        else:\n",
    "            flash('Login failed!', 'Check your credentials', 'danger')\n",
    "    return render_template('login.html')"
   ]
  },
  {
   "cell_type": "code",
   "execution_count": 25,
   "id": "2d013c26-edfb-4788-b8e4-013c52286b2d",
   "metadata": {},
   "outputs": [],
   "source": [
    "@app.route('/register', methods=['GET', 'POST'])\n",
    "def register():\n",
    "    if request.method == 'POST':\n",
    "        username = request.form['username']\n",
    "        email = request.form['email']\n",
    "        password = request.form['password']\n",
    "        hashed_password = generate_password_hash(password, method='sha256')\n",
    "        new_user = User(username=username, password_hash=hashed_password, email=email)\n",
    "        db.session.add(new_user)\n",
    "        db.session.commit()\n",
    "        flash('Registration successful!', 'You can now log in.', 'success')\n",
    "        return redirect(url_for('index'))\n",
    "    return render_template('register.html')"
   ]
  },
  {
   "cell_type": "code",
   "execution_count": 27,
   "id": "a1321983-ee6f-47a3-8eb6-4a698039039b",
   "metadata": {},
   "outputs": [],
   "source": [
    "def add_comment(post_id):\n",
    "    if 'user_id' in session:\n",
    "        comment_text = request.form['comment']\n",
    "        new_comment = Comment(post_id=post_id, user_id=session['user_id'], comment=comment_text)\n",
    "        db.session.add(new_comment)\n",
    "        db.session.commit()\n",
    "        flash('Comment added successfully!', 'success')\n",
    "    else:\n",
    "        flash('You need to be logged in to comment', 'danger')\n",
    "    return redirect(url_for('post_detail', post_id=post_id))"
   ]
  },
  {
   "cell_type": "code",
   "execution_count": 29,
   "id": "7a11f31a-7d1c-46bc-9ed9-968353ac4c81",
   "metadata": {},
   "outputs": [
    {
     "name": "stdout",
     "output_type": "stream",
     "text": [
      " * Serving Flask app '__main__'\n",
      " * Debug mode: on\n"
     ]
    },
    {
     "name": "stderr",
     "output_type": "stream",
     "text": [
      "WARNING: This is a development server. Do not use it in a production deployment. Use a production WSGI server instead.\n",
      " * Running on http://127.0.0.1:5000\n",
      "Press CTRL+C to quit\n",
      " * Restarting with watchdog (windowsapi)\n"
     ]
    },
    {
     "ename": "SystemExit",
     "evalue": "1",
     "output_type": "error",
     "traceback": [
      "An exception has occurred, use %tb to see the full traceback.\n",
      "\u001b[1;31mSystemExit\u001b[0m\u001b[1;31m:\u001b[0m 1\n"
     ]
    },
    {
     "name": "stderr",
     "output_type": "stream",
     "text": [
      "C:\\ProgramData\\anaconda3\\Lib\\site-packages\\IPython\\core\\interactiveshell.py:3585: UserWarning: To exit: use 'exit', 'quit', or Ctrl-D.\n",
      "  warn(\"To exit: use 'exit', 'quit', or Ctrl-D.\", stacklevel=1)\n"
     ]
    }
   ],
   "source": [
    "if __name__ == '__main__':\n",
    "    app.run(debug=True)"
   ]
  },
  {
   "cell_type": "code",
   "execution_count": 31,
   "id": "b857a441-3ab9-4039-a76b-a521847c0ba3",
   "metadata": {},
   "outputs": [
    {
     "ename": "SystemExit",
     "evalue": "1",
     "output_type": "error",
     "traceback": [
      "\u001b[1;31m---------------------------------------------------------------------------\u001b[0m",
      "\u001b[1;31mSystemExit\u001b[0m                                Traceback (most recent call last)",
      "Cell \u001b[1;32mIn[29], line 2\u001b[0m\n\u001b[0;32m      1\u001b[0m \u001b[38;5;28;01mif\u001b[39;00m \u001b[38;5;18m__name__\u001b[39m \u001b[38;5;241m==\u001b[39m \u001b[38;5;124m'\u001b[39m\u001b[38;5;124m__main__\u001b[39m\u001b[38;5;124m'\u001b[39m:\n\u001b[1;32m----> 2\u001b[0m     app\u001b[38;5;241m.\u001b[39mrun(debug\u001b[38;5;241m=\u001b[39m\u001b[38;5;28;01mTrue\u001b[39;00m)\n",
      "File \u001b[1;32m~\\AppData\\Roaming\\Python\\Python312\\site-packages\\flask\\app.py:1188\u001b[0m, in \u001b[0;36mFlask.run\u001b[1;34m(self, host, port, debug, load_dotenv, **options)\u001b[0m\n\u001b[0;32m   1185\u001b[0m \u001b[38;5;28;01mfrom\u001b[39;00m \u001b[38;5;21;01mwerkzeug\u001b[39;00m\u001b[38;5;21;01m.\u001b[39;00m\u001b[38;5;21;01mserving\u001b[39;00m \u001b[38;5;28;01mimport\u001b[39;00m run_simple\n\u001b[0;32m   1187\u001b[0m \u001b[38;5;28;01mtry\u001b[39;00m:\n\u001b[1;32m-> 1188\u001b[0m     run_simple(t\u001b[38;5;241m.\u001b[39mcast(\u001b[38;5;28mstr\u001b[39m, host), port, \u001b[38;5;28mself\u001b[39m, \u001b[38;5;241m*\u001b[39m\u001b[38;5;241m*\u001b[39moptions)\n\u001b[0;32m   1189\u001b[0m \u001b[38;5;28;01mfinally\u001b[39;00m:\n\u001b[0;32m   1190\u001b[0m     \u001b[38;5;66;03m# reset the first request information if the development server\u001b[39;00m\n\u001b[0;32m   1191\u001b[0m     \u001b[38;5;66;03m# reset normally.  This makes it possible to restart the server\u001b[39;00m\n\u001b[0;32m   1192\u001b[0m     \u001b[38;5;66;03m# without reloader and that stuff from an interactive shell.\u001b[39;00m\n\u001b[0;32m   1193\u001b[0m     \u001b[38;5;28mself\u001b[39m\u001b[38;5;241m.\u001b[39m_got_first_request \u001b[38;5;241m=\u001b[39m \u001b[38;5;28;01mFalse\u001b[39;00m\n",
      "File \u001b[1;32m~\\AppData\\Roaming\\Python\\Python312\\site-packages\\werkzeug\\serving.py:1059\u001b[0m, in \u001b[0;36mrun_simple\u001b[1;34m(hostname, port, application, use_reloader, use_debugger, use_evalex, extra_files, exclude_patterns, reloader_interval, reloader_type, threaded, processes, request_handler, static_files, passthrough_errors, ssl_context)\u001b[0m\n\u001b[0;32m   1056\u001b[0m \u001b[38;5;28;01mfrom\u001b[39;00m \u001b[38;5;21;01m.\u001b[39;00m\u001b[38;5;21;01m_reloader\u001b[39;00m \u001b[38;5;28;01mimport\u001b[39;00m run_with_reloader\n\u001b[0;32m   1058\u001b[0m \u001b[38;5;28;01mtry\u001b[39;00m:\n\u001b[1;32m-> 1059\u001b[0m     run_with_reloader(\n\u001b[0;32m   1060\u001b[0m         srv\u001b[38;5;241m.\u001b[39mserve_forever,\n\u001b[0;32m   1061\u001b[0m         extra_files\u001b[38;5;241m=\u001b[39mextra_files,\n\u001b[0;32m   1062\u001b[0m         exclude_patterns\u001b[38;5;241m=\u001b[39mexclude_patterns,\n\u001b[0;32m   1063\u001b[0m         interval\u001b[38;5;241m=\u001b[39mreloader_interval,\n\u001b[0;32m   1064\u001b[0m         reloader_type\u001b[38;5;241m=\u001b[39mreloader_type,\n\u001b[0;32m   1065\u001b[0m     )\n\u001b[0;32m   1066\u001b[0m \u001b[38;5;28;01mfinally\u001b[39;00m:\n\u001b[0;32m   1067\u001b[0m     srv\u001b[38;5;241m.\u001b[39mserver_close()\n",
      "File \u001b[1;32m~\\AppData\\Roaming\\Python\\Python312\\site-packages\\werkzeug\\_reloader.py:444\u001b[0m, in \u001b[0;36mrun_with_reloader\u001b[1;34m(main_func, extra_files, exclude_patterns, interval, reloader_type)\u001b[0m\n\u001b[0;32m    442\u001b[0m             reloader\u001b[38;5;241m.\u001b[39mrun()\n\u001b[0;32m    443\u001b[0m     \u001b[38;5;28;01melse\u001b[39;00m:\n\u001b[1;32m--> 444\u001b[0m         sys\u001b[38;5;241m.\u001b[39mexit(reloader\u001b[38;5;241m.\u001b[39mrestart_with_reloader())\n\u001b[0;32m    445\u001b[0m \u001b[38;5;28;01mexcept\u001b[39;00m \u001b[38;5;167;01mKeyboardInterrupt\u001b[39;00m:\n\u001b[0;32m    446\u001b[0m     \u001b[38;5;28;01mpass\u001b[39;00m\n",
      "\u001b[1;31mSystemExit\u001b[0m: 1"
     ]
    }
   ],
   "source": [
    "%tb"
   ]
  },
  {
   "cell_type": "code",
   "execution_count": null,
   "id": "aff0395e-06ce-418c-bf6d-0fae28e44c5c",
   "metadata": {},
   "outputs": [],
   "source": [
    "!jupyter nbconvert --to s"
   ]
  }
 ],
 "metadata": {
  "kernelspec": {
   "display_name": "Python 3 (ipykernel)",
   "language": "python",
   "name": "python3"
  },
  "language_info": {
   "codemirror_mode": {
    "name": "ipython",
    "version": 3
   },
   "file_extension": ".py",
   "mimetype": "text/x-python",
   "name": "python",
   "nbconvert_exporter": "python",
   "pygments_lexer": "ipython3",
   "version": "3.12.4"
  }
 },
 "nbformat": 4,
 "nbformat_minor": 5
}
